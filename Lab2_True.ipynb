{
 "cells": [
  {
   "cell_type": "markdown",
   "metadata": {
    "id": "9hHjGwPTs67Z"
   },
   "source": [
    "#### Загрузим наборы данных и импортируем необходимые библиотеки"
   ]
  },
  {
   "cell_type": "code",
   "execution_count": 1,
   "metadata": {
    "execution": {
     "iopub.execute_input": "2022-12-10T08:40:09.493305Z",
     "iopub.status.busy": "2022-12-10T08:40:09.492901Z",
     "iopub.status.idle": "2022-12-10T08:40:10.008606Z",
     "shell.execute_reply": "2022-12-10T08:40:10.007662Z",
     "shell.execute_reply.started": "2022-12-10T08:40:09.493248Z"
    },
    "executionInfo": {
     "elapsed": 1612,
     "status": "ok",
     "timestamp": 1589984097972,
     "user": {
      "displayName": "Garima Rahangdale",
      "photoUrl": "",
      "userId": "12135158262547382026"
     },
     "user_tz": -330
    },
    "id": "b8w3abeUtyFT",
    "outputId": "9d0e1845-c290-48a7-92a5-b671b3901dc0"
   },
   "outputs": [],
   "source": [
    "import numpy as np\n",
    "import pandas as pd\n",
    "import math\n",
    "import json\n",
    "import time\n",
    "from sklearn.model_selection import train_test_split\n",
    "from sklearn.neighbors import NearestNeighbors"
   ]
  },
  {
   "cell_type": "code",
   "execution_count": 2,
   "metadata": {
    "execution": {
     "iopub.execute_input": "2022-12-10T08:40:10.014156Z",
     "iopub.status.busy": "2022-12-10T08:40:10.012932Z",
     "iopub.status.idle": "2022-12-10T08:40:10.091864Z",
     "shell.execute_reply": "2022-12-10T08:40:10.090939Z",
     "shell.execute_reply.started": "2022-12-10T08:40:10.014111Z"
    }
   },
   "outputs": [],
   "source": [
    "import scipy.sparse\n",
    "from scipy.sparse import csr_matrix\n",
    "import warnings; warnings.simplefilter('ignore')\n",
    "%matplotlib inline\n",
    "import matplotlib.pyplot as plt\n",
    "import seaborn as sns\n",
    "from sklearn.metrics.pairwise import cosine_similarity"
   ]
  },
  {
   "cell_type": "markdown",
   "metadata": {},
   "source": [
    "# Загрузка данных"
   ]
  },
  {
   "cell_type": "code",
   "execution_count": null,
   "metadata": {},
   "outputs": [],
   "source": [
    "books = pd.read_csv(\"../input/bookcrossing/BX-Books.csv\", sep=\";\", error_bad_lines=False, encoding=\"latin-1\")\n",
    "books.columns = ['ISBN', 'bookTitle', 'bookAuthor', 'yearOfPublication', 'publisher', 'imageUrlS', 'imageUrlM', 'imageUrlL']"
   ]
  },
  {
   "cell_type": "code",
   "execution_count": 4,
   "metadata": {
    "execution": {
     "iopub.execute_input": "2022-12-10T08:40:11.735459Z",
     "iopub.status.busy": "2022-12-10T08:40:11.735154Z",
     "iopub.status.idle": "2022-12-10T08:40:11.935334Z",
     "shell.execute_reply": "2022-12-10T08:40:11.934563Z",
     "shell.execute_reply.started": "2022-12-10T08:40:11.735429Z"
    }
   },
   "outputs": [],
   "source": [
    "users = pd.read_csv('../input/bookcrossing/BX-Users.csv', sep=';', error_bad_lines=False, encoding=\"latin-1\")\n",
    "users.columns = ['userID', 'Location', 'Age']"
   ]
  },
  {
   "cell_type": "code",
   "execution_count": 5,
   "metadata": {
    "execution": {
     "iopub.execute_input": "2022-12-10T08:40:11.936711Z",
     "iopub.status.busy": "2022-12-10T08:40:11.936502Z",
     "iopub.status.idle": "2022-12-10T08:40:12.536967Z",
     "shell.execute_reply": "2022-12-10T08:40:12.536189Z",
     "shell.execute_reply.started": "2022-12-10T08:40:11.936685Z"
    }
   },
   "outputs": [],
   "source": [
    "ratings = pd.read_csv('../input/bookcrossing/BX-Book-Ratings.csv', sep=';', error_bad_lines=False, encoding=\"latin-1\")\n",
    "ratings.columns = ['userID', 'ISBN', 'bookRating']"
   ]
  },
  {
   "cell_type": "markdown",
   "metadata": {},
   "source": [
    "# Проведем анализ данных"
   ]
  },
  {
   "cell_type": "code",
   "execution_count": 6,
   "metadata": {
    "execution": {
     "iopub.execute_input": "2022-12-10T08:40:12.538731Z",
     "iopub.status.busy": "2022-12-10T08:40:12.538436Z",
     "iopub.status.idle": "2022-12-10T08:40:12.786254Z",
     "shell.execute_reply": "2022-12-10T08:40:12.785482Z",
     "shell.execute_reply.started": "2022-12-10T08:40:12.538688Z"
    }
   },
   "outputs": [
    {
     "data": {
      "image/png": "[encoded data removed]",
      "text/plain": [
       "<Figure size 432x288 with 1 Axes>"
      ]
     },
     "metadata": {
      "needs_background": "light"
     },
     "output_type": "display_data"
    }
   ],
   "source": [
    "plt.rc(\"font\", size=15)\n",
    "ratings.bookRating.value_counts(sort=False).plot(kind='bar')\n",
    "plt.title('Распределение рейтинга\\n')\n",
    "plt.xlabel('Рейтинг')\n",
    "plt.ylabel('Счетчик')\n",
    "plt.show()"
   ]
  },
  {
   "cell_type": "code",
   "execution_count": 7,
   "metadata": {
    "execution": {
     "iopub.execute_input": "2022-12-10T08:40:12.787627Z",
     "iopub.status.busy": "2022-12-10T08:40:12.787342Z",
     "iopub.status.idle": "2022-12-10T08:40:13.019521Z",
     "shell.execute_reply": "2022-12-10T08:40:13.018936Z",
     "shell.execute_reply.started": "2022-12-10T08:40:12.787597Z"
    }
   },
   "outputs": [
    {
     "data": {
      "image/png": "[encoded data removed]",
      "text/plain": [
       "<Figure size 432x288 with 1 Axes>"
      ]
     },
     "metadata": {
      "needs_background": "light"
     },
     "output_type": "display_data"
    }
   ],
   "source": [
    "users.Age.hist(bins=[0, 10, 20, 30, 40, 50, 100])\n",
    "plt.title('Распределение по возрасту\\n')\n",
    "plt.xlabel('Возраст')\n",
    "plt.ylabel('Счетчик')\n",
    "plt.show()"
   ]
  },
  {
   "cell_type": "markdown",
   "metadata": {
    "id": "4SxVjyV4s67i"
   },
   "source": [
    "### Проверим количество записей и признаков, указанных в каждом наборе данных"
   ]
  },
  {
   "cell_type": "code",
   "execution_count": 8,
   "metadata": {
    "execution": {
     "iopub.execute_input": "2022-12-10T08:40:13.020877Z",
     "iopub.status.busy": "2022-12-10T08:40:13.020564Z",
     "iopub.status.idle": "2022-12-10T08:40:13.026225Z",
     "shell.execute_reply": "2022-12-10T08:40:13.025385Z",
     "shell.execute_reply.started": "2022-12-10T08:40:13.020850Z"
    },
    "executionInfo": {
     "elapsed": 3891,
     "status": "ok",
     "timestamp": 1589984101418,
     "user": {
      "displayName": "Garima Rahangdale",
      "photoUrl": "",
      "userId": "12135158262547382026"
     },
     "user_tz": -330
    },
    "id": "P-59QtuR16aq",
    "outputId": "78a0b05e-48f5-4c0a-80f6-ce7e044f0198"
   },
   "outputs": [
    {
     "data": {
      "text/plain": [
       "((271360, 8), (278858, 3), (1149780, 3))"
      ]
     },
     "execution_count": 8,
     "metadata": {},
     "output_type": "execute_result"
    }
   ],
   "source": [
    "books.shape,users.shape,ratings.shape"
   ]
  },
  {
   "cell_type": "code",
   "execution_count": 9,
   "metadata": {
    "execution": {
     "iopub.execute_input": "2022-12-10T08:40:13.027578Z",
     "iopub.status.busy": "2022-12-10T08:40:13.027298Z",
     "iopub.status.idle": "2022-12-10T08:40:13.050318Z",
     "shell.execute_reply": "2022-12-10T08:40:13.049309Z",
     "shell.execute_reply.started": "2022-12-10T08:40:13.027549Z"
    },
    "executionInfo": {
     "elapsed": 2605,
     "status": "ok",
     "timestamp": 1589984101426,
     "user": {
      "displayName": "Garima Rahangdale",
      "photoUrl": "",
      "userId": "12135158262547382026"
     },
     "user_tz": -330
    },
    "id": "js-QTJvRs67v",
    "outputId": "a86dda72-60ae-4779-b23f-e83f09e717f5"
   },
   "outputs": [
    {
     "data": {
      "text/html": [
       "<div>\n",
       "<style scoped>\n",
       "    .dataframe tbody tr th:only-of-type {\n",
       "        vertical-align: middle;\n",
       "    }\n",
       "\n",
       "    .dataframe tbody tr th {\n",
       "        vertical-align: top;\n",
       "    }\n",
       "\n",
       "    .dataframe thead th {\n",
       "        text-align: right;\n",
       "    }\n",
       "</style>\n",
       "<table border=\"1\" class=\"dataframe\">\n",
       "  <thead>\n",
       "    <tr style=\"text-align: right;\">\n",
       "      <th></th>\n",
       "      <th>ISBN</th>\n",
       "      <th>bookTitle</th>\n",
       "      <th>bookAuthor</th>\n",
       "      <th>yearOfPublication</th>\n",
       "      <th>publisher</th>\n",
       "      <th>imageUrlS</th>\n",
       "      <th>imageUrlM</th>\n",
       "      <th>imageUrlL</th>\n",
       "    </tr>\n",
       "  </thead>\n",
       "  <tbody>\n",
       "    <tr>\n",
       "      <th>0</th>\n",
       "      <td>0195153448</td>\n",
       "      <td>Classical Mythology</td>\n",
       "      <td>Mark P. O. Morford</td>\n",
       "      <td>2002</td>\n",
       "      <td>Oxford University Press</td>\n",
       "      <td>http://images.amazon.com/images/P/0195153448.0...</td>\n",
       "      <td>http://images.amazon.com/images/P/0195153448.0...</td>\n",
       "      <td>http://images.amazon.com/images/P/0195153448.0...</td>\n",
       "    </tr>\n",
       "    <tr>\n",
       "      <th>1</th>\n",
       "      <td>0002005018</td>\n",
       "      <td>Clara Callan</td>\n",
       "      <td>Richard Bruce Wright</td>\n",
       "      <td>2001</td>\n",
       "      <td>HarperFlamingo Canada</td>\n",
       "      <td>http://images.amazon.com/images/P/0002005018.0...</td>\n",
       "      <td>http://images.amazon.com/images/P/0002005018.0...</td>\n",
       "      <td>http://images.amazon.com/images/P/0002005018.0...</td>\n",
       "    </tr>\n",
       "    <tr>\n",
       "      <th>2</th>\n",
       "      <td>0060973129</td>\n",
       "      <td>Decision in Normandy</td>\n",
       "      <td>Carlo D'Este</td>\n",
       "      <td>1991</td>\n",
       "      <td>HarperPerennial</td>\n",
       "      <td>http://images.amazon.com/images/P/0060973129.0...</td>\n",
       "      <td>http://images.amazon.com/images/P/0060973129.0...</td>\n",
       "      <td>http://images.amazon.com/images/P/0060973129.0...</td>\n",
       "    </tr>\n",
       "    <tr>\n",
       "      <th>3</th>\n",
       "      <td>0374157065</td>\n",
       "      <td>Flu: The Story of the Great Influenza Pandemic...</td>\n",
       "      <td>Gina Bari Kolata</td>\n",
       "      <td>1999</td>\n",
       "      <td>Farrar Straus Giroux</td>\n",
       "      <td>http://images.amazon.com/images/P/0374157065.0...</td>\n",
       "      <td>http://images.amazon.com/images/P/0374157065.0...</td>\n",
       "      <td>http://images.amazon.com/images/P/0374157065.0...</td>\n",
       "    </tr>\n",
       "    <tr>\n",
       "      <th>4</th>\n",
       "      <td>0393045218</td>\n",
       "      <td>The Mummies of Urumchi</td>\n",
       "      <td>E. J. W. Barber</td>\n",
       "      <td>1999</td>\n",
       "      <td>W. W. Norton &amp;amp; Company</td>\n",
       "      <td>http://images.amazon.com/images/P/0393045218.0...</td>\n",
       "      <td>http://images.amazon.com/images/P/0393045218.0...</td>\n",
       "      <td>http://images.amazon.com/images/P/0393045218.0...</td>\n",
       "    </tr>\n",
       "  </tbody>\n",
       "</table>\n",
       "</div>"
      ],
      "text/plain": [
       "         ISBN                                          bookTitle  \\\n",
       "0  0195153448                                Classical Mythology   \n",
       "1  0002005018                                       Clara Callan   \n",
       "2  0060973129                               Decision in Normandy   \n",
       "3  0374157065  Flu: The Story of the Great Influenza Pandemic...   \n",
       "4  0393045218                             The Mummies of Urumchi   \n",
       "\n",
       "             bookAuthor yearOfPublication                   publisher  \\\n",
       "0    Mark P. O. Morford              2002     Oxford University Press   \n",
       "1  Richard Bruce Wright              2001       HarperFlamingo Canada   \n",
       "2          Carlo D'Este              1991             HarperPerennial   \n",
       "3      Gina Bari Kolata              1999        Farrar Straus Giroux   \n",
       "4       E. J. W. Barber              1999  W. W. Norton &amp; Company   \n",
       "\n",
       "                                           imageUrlS  \\\n",
       "0  http://images.amazon.com/images/P/0195153448.0...   \n",
       "1  http://images.amazon.com/images/P/0002005018.0...   \n",
       "2  http://images.amazon.com/images/P/0060973129.0...   \n",
       "3  http://images.amazon.com/images/P/0374157065.0...   \n",
       "4  http://images.amazon.com/images/P/0393045218.0...   \n",
       "\n",
       "                                           imageUrlM  \\\n",
       "0  http://images.amazon.com/images/P/0195153448.0...   \n",
       "1  http://images.amazon.com/images/P/0002005018.0...   \n",
       "2  http://images.amazon.com/images/P/0060973129.0...   \n",
       "3  http://images.amazon.com/images/P/0374157065.0...   \n",
       "4  http://images.amazon.com/images/P/0393045218.0...   \n",
       "\n",
       "                                           imageUrlL  \n",
       "0  http://images.amazon.com/images/P/0195153448.0...  \n",
       "1  http://images.amazon.com/images/P/0002005018.0...  \n",
       "2  http://images.amazon.com/images/P/0060973129.0...  \n",
       "3  http://images.amazon.com/images/P/0374157065.0...  \n",
       "4  http://images.amazon.com/images/P/0393045218.0...  "
      ]
     },
     "execution_count": 9,
     "metadata": {},
     "output_type": "execute_result"
    }
   ],
   "source": [
    "books.head()"
   ]
  },
  {
   "cell_type": "markdown",
   "metadata": {
    "id": "4axcsIias671"
   },
   "source": [
    "### Удаление последних трех столбцов, содержащих URL-адреса изображений, которые не потребуются для анализа"
   ]
  },
  {
   "cell_type": "code",
   "execution_count": 10,
   "metadata": {
    "execution": {
     "iopub.execute_input": "2022-12-10T08:40:13.051559Z",
     "iopub.status.busy": "2022-12-10T08:40:13.051312Z",
     "iopub.status.idle": "2022-12-10T08:40:13.056028Z",
     "shell.execute_reply": "2022-12-10T08:40:13.055245Z",
     "shell.execute_reply.started": "2022-12-10T08:40:13.051530Z"
    },
    "id": "PA33GNJZs674"
   },
   "outputs": [],
   "source": [
    "books = books.iloc[:,:5]"
   ]
  },
  {
   "cell_type": "code",
   "execution_count": 11,
   "metadata": {
    "execution": {
     "iopub.execute_input": "2022-12-10T08:40:13.057229Z",
     "iopub.status.busy": "2022-12-10T08:40:13.056973Z",
     "iopub.status.idle": "2022-12-10T08:40:13.074315Z",
     "shell.execute_reply": "2022-12-10T08:40:13.073487Z",
     "shell.execute_reply.started": "2022-12-10T08:40:13.057195Z"
    },
    "executionInfo": {
     "elapsed": 1603,
     "status": "ok",
     "timestamp": 1589984101430,
     "user": {
      "displayName": "Garima Rahangdale",
      "photoUrl": "",
      "userId": "12135158262547382026"
     },
     "user_tz": -330
    },
    "id": "KfrpLBCds677",
    "outputId": "55876fa6-5e57-40e3-aad9-03824afa2c4e",
    "scrolled": true
   },
   "outputs": [
    {
     "data": {
      "text/html": [
       "<div>\n",
       "<style scoped>\n",
       "    .dataframe tbody tr th:only-of-type {\n",
       "        vertical-align: middle;\n",
       "    }\n",
       "\n",
       "    .dataframe tbody tr th {\n",
       "        vertical-align: top;\n",
       "    }\n",
       "\n",
       "    .dataframe thead th {\n",
       "        text-align: right;\n",
       "    }\n",
       "</style>\n",
       "<table border=\"1\" class=\"dataframe\">\n",
       "  <thead>\n",
       "    <tr style=\"text-align: right;\">\n",
       "      <th></th>\n",
       "      <th>ISBN</th>\n",
       "      <th>bookTitle</th>\n",
       "      <th>bookAuthor</th>\n",
       "      <th>yearOfPublication</th>\n",
       "      <th>publisher</th>\n",
       "    </tr>\n",
       "  </thead>\n",
       "  <tbody>\n",
       "    <tr>\n",
       "      <th>0</th>\n",
       "      <td>0195153448</td>\n",
       "      <td>Classical Mythology</td>\n",
       "      <td>Mark P. O. Morford</td>\n",
       "      <td>2002</td>\n",
       "      <td>Oxford University Press</td>\n",
       "    </tr>\n",
       "    <tr>\n",
       "      <th>1</th>\n",
       "      <td>0002005018</td>\n",
       "      <td>Clara Callan</td>\n",
       "      <td>Richard Bruce Wright</td>\n",
       "      <td>2001</td>\n",
       "      <td>HarperFlamingo Canada</td>\n",
       "    </tr>\n",
       "    <tr>\n",
       "      <th>2</th>\n",
       "      <td>0060973129</td>\n",
       "      <td>Decision in Normandy</td>\n",
       "      <td>Carlo D'Este</td>\n",
       "      <td>1991</td>\n",
       "      <td>HarperPerennial</td>\n",
       "    </tr>\n",
       "    <tr>\n",
       "      <th>3</th>\n",
       "      <td>0374157065</td>\n",
       "      <td>Flu: The Story of the Great Influenza Pandemic...</td>\n",
       "      <td>Gina Bari Kolata</td>\n",
       "      <td>1999</td>\n",
       "      <td>Farrar Straus Giroux</td>\n",
       "    </tr>\n",
       "    <tr>\n",
       "      <th>4</th>\n",
       "      <td>0393045218</td>\n",
       "      <td>The Mummies of Urumchi</td>\n",
       "      <td>E. J. W. Barber</td>\n",
       "      <td>1999</td>\n",
       "      <td>W. W. Norton &amp;amp; Company</td>\n",
       "    </tr>\n",
       "  </tbody>\n",
       "</table>\n",
       "</div>"
      ],
      "text/plain": [
       "         ISBN                                          bookTitle  \\\n",
       "0  0195153448                                Classical Mythology   \n",
       "1  0002005018                                       Clara Callan   \n",
       "2  0060973129                               Decision in Normandy   \n",
       "3  0374157065  Flu: The Story of the Great Influenza Pandemic...   \n",
       "4  0393045218                             The Mummies of Urumchi   \n",
       "\n",
       "             bookAuthor yearOfPublication                   publisher  \n",
       "0    Mark P. O. Morford              2002     Oxford University Press  \n",
       "1  Richard Bruce Wright              2001       HarperFlamingo Canada  \n",
       "2          Carlo D'Este              1991             HarperPerennial  \n",
       "3      Gina Bari Kolata              1999        Farrar Straus Giroux  \n",
       "4       E. J. W. Barber              1999  W. W. Norton &amp; Company  "
      ]
     },
     "execution_count": 11,
     "metadata": {},
     "output_type": "execute_result"
    }
   ],
   "source": [
    "books.head()"
   ]
  },
  {
   "cell_type": "markdown",
   "metadata": {
    "id": "oJoCH8Ifs68B"
   },
   "source": [
    "### Проверка уникальных значений yearOfPublication"
   ]
  },
  {
   "cell_type": "code",
   "execution_count": 12,
   "metadata": {
    "execution": {
     "iopub.execute_input": "2022-12-10T08:40:13.076540Z",
     "iopub.status.busy": "2022-12-10T08:40:13.075527Z",
     "iopub.status.idle": "2022-12-10T08:40:13.087579Z",
     "shell.execute_reply": "2022-12-10T08:40:13.086645Z",
     "shell.execute_reply.started": "2022-12-10T08:40:13.076500Z"
    },
    "executionInfo": {
     "elapsed": 1413,
     "status": "ok",
     "timestamp": 1589984102149,
     "user": {
      "displayName": "Garima Rahangdale",
      "photoUrl": "",
      "userId": "12135158262547382026"
     },
     "user_tz": -330
    },
    "id": "wpzTW4Cx16bQ",
    "outputId": "8d60668e-8e77-491e-b4ae-6150007b520f"
   },
   "outputs": [
    {
     "data": {
      "text/plain": [
       "ISBN                 object\n",
       "bookTitle            object\n",
       "bookAuthor           object\n",
       "yearOfPublication    object\n",
       "publisher            object\n",
       "dtype: object"
      ]
     },
     "execution_count": 12,
     "metadata": {},
     "output_type": "execute_result"
    }
   ],
   "source": [
    "books.dtypes"
   ]
  },
  {
   "cell_type": "code",
   "execution_count": 13,
   "metadata": {
    "execution": {
     "iopub.execute_input": "2022-12-10T08:40:13.092007Z",
     "iopub.status.busy": "2022-12-10T08:40:13.091769Z",
     "iopub.status.idle": "2022-12-10T08:40:13.097232Z",
     "shell.execute_reply": "2022-12-10T08:40:13.096401Z",
     "shell.execute_reply.started": "2022-12-10T08:40:13.091967Z"
    },
    "id": "QtlKoEpN16bV"
   },
   "outputs": [],
   "source": [
    "bookspub = books['yearOfPublication']"
   ]
  },
  {
   "cell_type": "code",
   "execution_count": 14,
   "metadata": {
    "execution": {
     "iopub.execute_input": "2022-12-10T08:40:13.098601Z",
     "iopub.status.busy": "2022-12-10T08:40:13.098354Z",
     "iopub.status.idle": "2022-12-10T08:40:13.126002Z",
     "shell.execute_reply": "2022-12-10T08:40:13.125386Z",
     "shell.execute_reply.started": "2022-12-10T08:40:13.098573Z"
    },
    "executionInfo": {
     "elapsed": 1550,
     "status": "ok",
     "timestamp": 1589984102929,
     "user": {
      "displayName": "Garima Rahangdale",
      "photoUrl": "",
      "userId": "12135158262547382026"
     },
     "user_tz": -330
    },
    "id": "yZhm-2w916bZ",
    "outputId": "00bd35b9-0520-4335-8f1f-499b67164547"
   },
   "outputs": [
    {
     "data": {
      "text/plain": [
       "array([2002, 2001, 1991, 1999, 2000, 1993, 1996, 1988, 2004, 1998, 1994,\n",
       "       2003, 1997, 1983, 1979, 1995, 1982, 1985, 1992, 1986, 1978, 1980,\n",
       "       1952, 1987, 1990, 1981, 1989, 1984, 0, 1968, 1961, 1958, 1974,\n",
       "       1976, 1971, 1977, 1975, 1965, 1941, 1970, 1962, 1973, 1972, 1960,\n",
       "       1966, 1920, 1956, 1959, 1953, 1951, 1942, 1963, 1964, 1969, 1954,\n",
       "       1950, 1967, 2005, 1957, 1940, 1937, 1955, 1946, 1936, 1930, 2011,\n",
       "       1925, 1948, 1943, 1947, 1945, 1923, 2020, 1939, 1926, 1938, 2030,\n",
       "       1911, 1904, 1949, 1932, 1928, 1929, 1927, 1931, 1914, 2050, 1934,\n",
       "       1910, 1933, 1902, 1924, 1921, 1900, 2038, 2026, 1944, 1917, 1901,\n",
       "       2010, 1908, 1906, 1935, 1806, 2021, '2000', '1995', '1999', '2004',\n",
       "       '2003', '1990', '1994', '1986', '1989', '2002', '1981', '1993',\n",
       "       '1983', '1982', '1976', '1991', '1977', '1998', '1992', '1996',\n",
       "       '0', '1997', '2001', '1974', '1968', '1987', '1984', '1988',\n",
       "       '1963', '1956', '1970', '1985', '1978', '1973', '1980', '1979',\n",
       "       '1975', '1969', '1961', '1965', '1939', '1958', '1950', '1953',\n",
       "       '1966', '1971', '1959', '1972', '1955', '1957', '1945', '1960',\n",
       "       '1967', '1932', '1924', '1964', '2012', '1911', '1927', '1948',\n",
       "       '1962', '2006', '1952', '1940', '1951', '1931', '1954', '2005',\n",
       "       '1930', '1941', '1944', 'DK Publishing Inc', '1943', '1938',\n",
       "       '1900', '1942', '1923', '1920', '1933', 'Gallimard', '1909',\n",
       "       '1946', '2008', '1378', '2030', '1936', '1947', '2011', '2020',\n",
       "       '1919', '1949', '1922', '1897', '2024', '1376', '1926', '2037'],\n",
       "      dtype=object)"
      ]
     },
     "execution_count": 14,
     "metadata": {},
     "output_type": "execute_result"
    }
   ],
   "source": [
    "bookspub.unique()"
   ]
  },
  {
   "cell_type": "markdown",
   "metadata": {
    "id": "FCMdw-Ojs68J"
   },
   "source": [
    "Как видно из вышеизложенного, в этом поле есть несколько некорректных записей. Похоже, что имена издателей «DK Publishing Inc» и «Gallimard» были неправильно загружены как yearOfPublication в наборе данных из-за некоторых ошибок в CSV-файле."
   ]
  },
  {
   "cell_type": "markdown",
   "metadata": {
    "id": "JqzIY4F2s68L"
   },
   "source": [
    "### Проверим строки, содержащие «DK Publishing Inc» в качестве yearOfPublication"
   ]
  },
  {
   "cell_type": "code",
   "execution_count": 15,
   "metadata": {
    "execution": {
     "iopub.execute_input": "2022-12-10T08:40:13.127784Z",
     "iopub.status.busy": "2022-12-10T08:40:13.127110Z",
     "iopub.status.idle": "2022-12-10T08:40:13.159077Z",
     "shell.execute_reply": "2022-12-10T08:40:13.158257Z",
     "shell.execute_reply.started": "2022-12-10T08:40:13.127739Z"
    },
    "executionInfo": {
     "elapsed": 1432,
     "status": "ok",
     "timestamp": 1589984103722,
     "user": {
      "displayName": "Garima Rahangdale",
      "photoUrl": "",
      "userId": "12135158262547382026"
     },
     "user_tz": -330
    },
    "id": "tFr14dSss68O",
    "outputId": "57f96af1-7e41-4e74-dec0-917dea4fb443"
   },
   "outputs": [
    {
     "data": {
      "text/html": [
       "<div>\n",
       "<style scoped>\n",
       "    .dataframe tbody tr th:only-of-type {\n",
       "        vertical-align: middle;\n",
       "    }\n",
       "\n",
       "    .dataframe tbody tr th {\n",
       "        vertical-align: top;\n",
       "    }\n",
       "\n",
       "    .dataframe thead th {\n",
       "        text-align: right;\n",
       "    }\n",
       "</style>\n",
       "<table border=\"1\" class=\"dataframe\">\n",
       "  <thead>\n",
       "    <tr style=\"text-align: right;\">\n",
       "      <th></th>\n",
       "      <th>ISBN</th>\n",
       "      <th>bookTitle</th>\n",
       "      <th>bookAuthor</th>\n",
       "      <th>yearOfPublication</th>\n",
       "      <th>publisher</th>\n",
       "    </tr>\n",
       "  </thead>\n",
       "  <tbody>\n",
       "    <tr>\n",
       "      <th>209538</th>\n",
       "      <td>078946697X</td>\n",
       "      <td>DK Readers: Creating the X-Men, How It All Beg...</td>\n",
       "      <td>2000</td>\n",
       "      <td>DK Publishing Inc</td>\n",
       "      <td>http://images.amazon.com/images/P/078946697X.0...</td>\n",
       "    </tr>\n",
       "    <tr>\n",
       "      <th>221678</th>\n",
       "      <td>0789466953</td>\n",
       "      <td>DK Readers: Creating the X-Men, How Comic Book...</td>\n",
       "      <td>2000</td>\n",
       "      <td>DK Publishing Inc</td>\n",
       "      <td>http://images.amazon.com/images/P/0789466953.0...</td>\n",
       "    </tr>\n",
       "  </tbody>\n",
       "</table>\n",
       "</div>"
      ],
      "text/plain": [
       "              ISBN                                          bookTitle  \\\n",
       "209538  078946697X  DK Readers: Creating the X-Men, How It All Beg...   \n",
       "221678  0789466953  DK Readers: Creating the X-Men, How Comic Book...   \n",
       "\n",
       "       bookAuthor  yearOfPublication  \\\n",
       "209538       2000  DK Publishing Inc   \n",
       "221678       2000  DK Publishing Inc   \n",
       "\n",
       "                                                publisher  \n",
       "209538  http://images.amazon.com/images/P/078946697X.0...  \n",
       "221678  http://images.amazon.com/images/P/0789466953.0...  "
      ]
     },
     "execution_count": 15,
     "metadata": {},
     "output_type": "execute_result"
    }
   ],
   "source": [
    "books.loc[books.yearOfPublication == 'DK Publishing Inc',:]"
   ]
  },
  {
   "cell_type": "markdown",
   "metadata": {
    "id": "2_tlfuJ0s68X"
   },
   "source": [
    "### Удалим строки, содержащие `'DK Publishing Inc'` и `'Gallimard'` как `yearOfPublication`"
   ]
  },
  {
   "cell_type": "code",
   "execution_count": 16,
   "metadata": {
    "execution": {
     "iopub.execute_input": "2022-12-10T08:40:13.161108Z",
     "iopub.status.busy": "2022-12-10T08:40:13.160344Z",
     "iopub.status.idle": "2022-12-10T08:40:13.228805Z",
     "shell.execute_reply": "2022-12-10T08:40:13.228180Z",
     "shell.execute_reply.started": "2022-12-10T08:40:13.161066Z"
    },
    "id": "jQXTGoL3s68Y"
   },
   "outputs": [],
   "source": [
    "books = books[(books.yearOfPublication != 'DK Publishing Inc') & (books.yearOfPublication != 'Gallimard')]"
   ]
  },
  {
   "cell_type": "markdown",
   "metadata": {
    "id": "Cch8cy4Is69c"
   },
   "source": [
    "### Изменим тип данных yearOfPublication на 'int'"
   ]
  },
  {
   "cell_type": "code",
   "execution_count": 17,
   "metadata": {
    "execution": {
     "iopub.execute_input": "2022-12-10T08:40:13.230590Z",
     "iopub.status.busy": "2022-12-10T08:40:13.229836Z",
     "iopub.status.idle": "2022-12-10T08:40:13.277161Z",
     "shell.execute_reply": "2022-12-10T08:40:13.276286Z",
     "shell.execute_reply.started": "2022-12-10T08:40:13.230555Z"
    },
    "id": "zJWu_4TYs6-C"
   },
   "outputs": [],
   "source": [
    "books['yearOfPublication'] = books['yearOfPublication'].astype('int32')"
   ]
  },
  {
   "cell_type": "code",
   "execution_count": 18,
   "metadata": {
    "execution": {
     "iopub.execute_input": "2022-12-10T08:40:13.278600Z",
     "iopub.status.busy": "2022-12-10T08:40:13.278352Z",
     "iopub.status.idle": "2022-12-10T08:40:13.285782Z",
     "shell.execute_reply": "2022-12-10T08:40:13.284998Z",
     "shell.execute_reply.started": "2022-12-10T08:40:13.278570Z"
    },
    "executionInfo": {
     "elapsed": 1296,
     "status": "ok",
     "timestamp": 1589984105205,
     "user": {
      "displayName": "Garima Rahangdale",
      "photoUrl": "",
      "userId": "12135158262547382026"
     },
     "user_tz": -330
    },
    "id": "mLtb51uOs7AC",
    "outputId": "002cb49a-f9a3-481c-87b3-0ba1f4443241"
   },
   "outputs": [
    {
     "data": {
      "text/plain": [
       "ISBN                 object\n",
       "bookTitle            object\n",
       "bookAuthor           object\n",
       "yearOfPublication     int32\n",
       "publisher            object\n",
       "dtype: object"
      ]
     },
     "execution_count": 18,
     "metadata": {},
     "output_type": "execute_result"
    }
   ],
   "source": [
    "books.dtypes"
   ]
  },
  {
   "cell_type": "markdown",
   "metadata": {
    "id": "SUtxTglMs7AJ"
   },
   "source": [
    "### Удалим NaN в столбце `'publisher'`"
   ]
  },
  {
   "cell_type": "code",
   "execution_count": 19,
   "metadata": {
    "execution": {
     "iopub.execute_input": "2022-12-10T08:40:13.287578Z",
     "iopub.status.busy": "2022-12-10T08:40:13.287167Z",
     "iopub.status.idle": "2022-12-10T08:40:13.355182Z",
     "shell.execute_reply": "2022-12-10T08:40:13.354433Z",
     "shell.execute_reply.started": "2022-12-10T08:40:13.287536Z"
    },
    "executionInfo": {
     "elapsed": 1543,
     "status": "ok",
     "timestamp": 1589984105943,
     "user": {
      "displayName": "Garima Rahangdale",
      "photoUrl": "",
      "userId": "12135158262547382026"
     },
     "user_tz": -330
    },
    "id": "2JCi9Je0s7AM",
    "outputId": "6d252430-2565-4d9d-e5f2-3afd8fcd2676"
   },
   "outputs": [
    {
     "data": {
      "text/plain": [
       "0"
      ]
     },
     "execution_count": 19,
     "metadata": {},
     "output_type": "execute_result"
    }
   ],
   "source": [
    "#drop NaNs in 'publisher' column\n",
    "books = books.dropna(subset=['publisher'])\n",
    "books.publisher.isnull().sum()"
   ]
  },
  {
   "cell_type": "markdown",
   "metadata": {
    "id": "O_ZT_MdQs7AR"
   },
   "source": [
    "## Изучение набора данных о пользователях"
   ]
  },
  {
   "cell_type": "code",
   "execution_count": 20,
   "metadata": {
    "execution": {
     "iopub.execute_input": "2022-12-10T08:40:13.357078Z",
     "iopub.status.busy": "2022-12-10T08:40:13.356517Z",
     "iopub.status.idle": "2022-12-10T08:40:13.368734Z",
     "shell.execute_reply": "2022-12-10T08:40:13.367721Z",
     "shell.execute_reply.started": "2022-12-10T08:40:13.357030Z"
    },
    "executionInfo": {
     "elapsed": 1453,
     "status": "ok",
     "timestamp": 1589984106564,
     "user": {
      "displayName": "Garima Rahangdale",
      "photoUrl": "",
      "userId": "12135158262547382026"
     },
     "user_tz": -330
    },
    "id": "Qrl6ZpFks7AS",
    "outputId": "b2d310ac-0426-475c-f596-d2225a99ffc0",
    "scrolled": true
   },
   "outputs": [
    {
     "name": "stdout",
     "output_type": "stream",
     "text": [
      "(278858, 3)\n"
     ]
    },
    {
     "data": {
      "text/html": [
       "<div>\n",
       "<style scoped>\n",
       "    .dataframe tbody tr th:only-of-type {\n",
       "        vertical-align: middle;\n",
       "    }\n",
       "\n",
       "    .dataframe tbody tr th {\n",
       "        vertical-align: top;\n",
       "    }\n",
       "\n",
       "    .dataframe thead th {\n",
       "        text-align: right;\n",
       "    }\n",
       "</style>\n",
       "<table border=\"1\" class=\"dataframe\">\n",
       "  <thead>\n",
       "    <tr style=\"text-align: right;\">\n",
       "      <th></th>\n",
       "      <th>userID</th>\n",
       "      <th>Location</th>\n",
       "      <th>Age</th>\n",
       "    </tr>\n",
       "  </thead>\n",
       "  <tbody>\n",
       "    <tr>\n",
       "      <th>0</th>\n",
       "      <td>1</td>\n",
       "      <td>nyc, new york, usa</td>\n",
       "      <td>NaN</td>\n",
       "    </tr>\n",
       "    <tr>\n",
       "      <th>1</th>\n",
       "      <td>2</td>\n",
       "      <td>stockton, california, usa</td>\n",
       "      <td>18.0</td>\n",
       "    </tr>\n",
       "    <tr>\n",
       "      <th>2</th>\n",
       "      <td>3</td>\n",
       "      <td>moscow, yukon territory, russia</td>\n",
       "      <td>NaN</td>\n",
       "    </tr>\n",
       "    <tr>\n",
       "      <th>3</th>\n",
       "      <td>4</td>\n",
       "      <td>porto, v.n.gaia, portugal</td>\n",
       "      <td>17.0</td>\n",
       "    </tr>\n",
       "    <tr>\n",
       "      <th>4</th>\n",
       "      <td>5</td>\n",
       "      <td>farnborough, hants, united kingdom</td>\n",
       "      <td>NaN</td>\n",
       "    </tr>\n",
       "  </tbody>\n",
       "</table>\n",
       "</div>"
      ],
      "text/plain": [
       "   userID                            Location   Age\n",
       "0       1                  nyc, new york, usa   NaN\n",
       "1       2           stockton, california, usa  18.0\n",
       "2       3     moscow, yukon territory, russia   NaN\n",
       "3       4           porto, v.n.gaia, portugal  17.0\n",
       "4       5  farnborough, hants, united kingdom   NaN"
      ]
     },
     "execution_count": 20,
     "metadata": {},
     "output_type": "execute_result"
    }
   ],
   "source": [
    "print(users.shape)\n",
    "users.head()"
   ]
  },
  {
   "cell_type": "markdown",
   "metadata": {
    "id": "BReY2Ttxs7Aa"
   },
   "source": [
    "### Получим все уникальные значения в порядке возрастания для столбца `Возраст`"
   ]
  },
  {
   "cell_type": "code",
   "execution_count": 21,
   "metadata": {
    "execution": {
     "iopub.execute_input": "2022-12-10T08:40:13.370387Z",
     "iopub.status.busy": "2022-12-10T08:40:13.370119Z",
     "iopub.status.idle": "2022-12-10T08:40:13.381700Z",
     "shell.execute_reply": "2022-12-10T08:40:13.380876Z",
     "shell.execute_reply.started": "2022-12-10T08:40:13.370359Z"
    },
    "executionInfo": {
     "elapsed": 1465,
     "status": "ok",
     "timestamp": 1589984107246,
     "user": {
      "displayName": "Garima Rahangdale",
      "photoUrl": "",
      "userId": "12135158262547382026"
     },
     "user_tz": -330
    },
    "id": "uCTGMeCvs7Ae",
    "outputId": "6961a6f8-547e-4985-d846-fb22aca541c3"
   },
   "outputs": [
    {
     "name": "stdout",
     "output_type": "stream",
     "text": [
      "[nan, 0.0, 1.0, 2.0, 3.0, 4.0, 5.0, 6.0, 7.0, 8.0, 9.0, 10.0, 11.0, 12.0, 13.0, 14.0, 15.0, 16.0, 17.0, 18.0, 19.0, 20.0, 21.0, 22.0, 23.0, 24.0, 25.0, 26.0, 27.0, 28.0, 29.0, 30.0, 31.0, 32.0, 33.0, 34.0, 35.0, 36.0, 37.0, 38.0, 39.0, 40.0, 41.0, 42.0, 43.0, 44.0, 45.0, 46.0, 47.0, 48.0, 49.0, 50.0, 51.0, 52.0, 53.0, 54.0, 55.0, 56.0, 57.0, 58.0, 59.0, 60.0, 61.0, 62.0, 63.0, 64.0, 65.0, 66.0, 67.0, 68.0, 69.0, 70.0, 71.0, 72.0, 73.0, 74.0, 75.0, 76.0, 77.0, 78.0, 79.0, 80.0, 81.0, 82.0, 83.0, 84.0, 85.0, 86.0, 87.0, 88.0, 89.0, 90.0, 91.0, 92.0, 93.0, 94.0, 95.0, 96.0, 97.0, 98.0, 99.0, 100.0, 101.0, 102.0, 103.0, 104.0, 105.0, 106.0, 107.0, 108.0, 109.0, 110.0, 111.0, 113.0, 114.0, 115.0, 116.0, 118.0, 119.0, 123.0, 124.0, 127.0, 128.0, 132.0, 133.0, 136.0, 137.0, 138.0, 140.0, 141.0, 143.0, 146.0, 147.0, 148.0, 151.0, 152.0, 156.0, 157.0, 159.0, 162.0, 168.0, 172.0, 175.0, 183.0, 186.0, 189.0, 199.0, 200.0, 201.0, 204.0, 207.0, 208.0, 209.0, 210.0, 212.0, 219.0, 220.0, 223.0, 226.0, 228.0, 229.0, 230.0, 231.0, 237.0, 239.0, 244.0]\n"
     ]
    }
   ],
   "source": [
    "print(sorted(users.Age.unique()))"
   ]
  },
  {
   "cell_type": "markdown",
   "metadata": {
    "id": "0dWWlmXMs7Ak"
   },
   "source": [
    "В столбце «Возраст» есть некоторые недопустимые записи, такие как nan, 0 и очень высокие значения, такие как 100 и выше."
   ]
  },
  {
   "cell_type": "markdown",
   "metadata": {
    "id": "nHBzo2tIs7Al"
   },
   "source": [
    "### Значения ниже 5 и выше 90 не имеют особого смысла для нашего случая рейтинга книг... поэтому заменим их на NaN"
   ]
  },
  {
   "cell_type": "code",
   "execution_count": 22,
   "metadata": {
    "execution": {
     "iopub.execute_input": "2022-12-10T08:40:13.383154Z",
     "iopub.status.busy": "2022-12-10T08:40:13.382889Z",
     "iopub.status.idle": "2022-12-10T08:40:13.390709Z",
     "shell.execute_reply": "2022-12-10T08:40:13.389947Z",
     "shell.execute_reply.started": "2022-12-10T08:40:13.383124Z"
    },
    "id": "_psyfurD16cK"
   },
   "outputs": [],
   "source": [
    "import numpy as np\n",
    "users.loc[(users.Age > 90) | (users.Age < 5), 'Age'] = np.nan"
   ]
  },
  {
   "cell_type": "markdown",
   "metadata": {
    "id": "qBxukZOQs7Ax"
   },
   "source": [
    "### Заменим нулевые значения в столбце «Возраст» на среднее"
   ]
  },
  {
   "cell_type": "code",
   "execution_count": 23,
   "metadata": {
    "execution": {
     "iopub.execute_input": "2022-12-10T08:40:13.392189Z",
     "iopub.status.busy": "2022-12-10T08:40:13.391960Z",
     "iopub.status.idle": "2022-12-10T08:40:13.403097Z",
     "shell.execute_reply": "2022-12-10T08:40:13.402335Z",
     "shell.execute_reply.started": "2022-12-10T08:40:13.392162Z"
    },
    "id": "wvSMVO2-s7A3"
   },
   "outputs": [],
   "source": [
    "users['Age'] = users['Age'].fillna(users['Age'].mean())"
   ]
  },
  {
   "cell_type": "markdown",
   "metadata": {
    "id": "zne349_Ss7A9"
   },
   "source": [
    "### Изменим тип данных `Age` на `int`"
   ]
  },
  {
   "cell_type": "code",
   "execution_count": 24,
   "metadata": {
    "execution": {
     "iopub.execute_input": "2022-12-10T08:40:13.405191Z",
     "iopub.status.busy": "2022-12-10T08:40:13.404789Z",
     "iopub.status.idle": "2022-12-10T08:40:13.411936Z",
     "shell.execute_reply": "2022-12-10T08:40:13.411206Z",
     "shell.execute_reply.started": "2022-12-10T08:40:13.405144Z"
    },
    "id": "A3Gbfi6qs7A-"
   },
   "outputs": [],
   "source": [
    "users['Age'] = users['Age'].astype(int)"
   ]
  },
  {
   "cell_type": "code",
   "execution_count": 25,
   "metadata": {
    "execution": {
     "iopub.execute_input": "2022-12-10T08:40:13.413531Z",
     "iopub.status.busy": "2022-12-10T08:40:13.413197Z",
     "iopub.status.idle": "2022-12-10T08:40:13.423713Z",
     "shell.execute_reply": "2022-12-10T08:40:13.422917Z",
     "shell.execute_reply.started": "2022-12-10T08:40:13.413499Z"
    },
    "executionInfo": {
     "elapsed": 1793,
     "status": "ok",
     "timestamp": 1589984110538,
     "user": {
      "displayName": "Garima Rahangdale",
      "photoUrl": "",
      "userId": "12135158262547382026"
     },
     "user_tz": -330
    },
    "id": "nBgB1uizs7BD",
    "outputId": "ff3f3df4-0c72-45d4-ee65-0d8ff71fc4e5",
    "scrolled": true
   },
   "outputs": [
    {
     "name": "stdout",
     "output_type": "stream",
     "text": [
      "[5, 6, 7, 8, 9, 10, 11, 12, 13, 14, 15, 16, 17, 18, 19, 20, 21, 22, 23, 24, 25, 26, 27, 28, 29, 30, 31, 32, 33, 34, 35, 36, 37, 38, 39, 40, 41, 42, 43, 44, 45, 46, 47, 48, 49, 50, 51, 52, 53, 54, 55, 56, 57, 58, 59, 60, 61, 62, 63, 64, 65, 66, 67, 68, 69, 70, 71, 72, 73, 74, 75, 76, 77, 78, 79, 80, 81, 82, 83, 84, 85, 86, 87, 88, 89, 90]\n"
     ]
    }
   ],
   "source": [
    "print(sorted(users.Age.unique()))"
   ]
  },
  {
   "cell_type": "markdown",
   "metadata": {
    "id": "e4q8iaGRs7Bu"
   },
   "source": [
    "## Изучение набора данных Ratings"
   ]
  },
  {
   "cell_type": "markdown",
   "metadata": {
    "id": "CXW8MMyws7B1"
   },
   "source": [
    "### Проверим форму"
   ]
  },
  {
   "cell_type": "code",
   "execution_count": 26,
   "metadata": {
    "execution": {
     "iopub.execute_input": "2022-12-10T08:40:13.425038Z",
     "iopub.status.busy": "2022-12-10T08:40:13.424605Z",
     "iopub.status.idle": "2022-12-10T08:40:13.435621Z",
     "shell.execute_reply": "2022-12-10T08:40:13.434871Z",
     "shell.execute_reply.started": "2022-12-10T08:40:13.425003Z"
    },
    "executionInfo": {
     "elapsed": 1564,
     "status": "ok",
     "timestamp": 1589984111281,
     "user": {
      "displayName": "Garima Rahangdale",
      "photoUrl": "",
      "userId": "12135158262547382026"
     },
     "user_tz": -330
    },
    "id": "uKdK5kXWs7B4",
    "outputId": "dd4eb741-5958-4a44-d91d-17e4b6746b67",
    "scrolled": true
   },
   "outputs": [
    {
     "data": {
      "text/plain": [
       "(1149780, 3)"
      ]
     },
     "execution_count": 26,
     "metadata": {},
     "output_type": "execute_result"
    }
   ],
   "source": [
    "ratings.shape"
   ]
  },
  {
   "cell_type": "code",
   "execution_count": 27,
   "metadata": {
    "execution": {
     "iopub.execute_input": "2022-12-10T08:40:13.436906Z",
     "iopub.status.busy": "2022-12-10T08:40:13.436715Z",
     "iopub.status.idle": "2022-12-10T08:40:13.444922Z",
     "shell.execute_reply": "2022-12-10T08:40:13.444036Z",
     "shell.execute_reply.started": "2022-12-10T08:40:13.436882Z"
    },
    "id": "OscRghDZs7B-"
   },
   "outputs": [
    {
     "data": {
      "text/plain": [
       "(278858, 271355)"
      ]
     },
     "execution_count": 27,
     "metadata": {},
     "output_type": "execute_result"
    }
   ],
   "source": [
    "n_users = users.shape[0]\n",
    "n_books = books.shape[0]\n",
    "n_users,n_books"
   ]
  },
  {
   "cell_type": "code",
   "execution_count": 28,
   "metadata": {
    "execution": {
     "iopub.execute_input": "2022-12-10T08:40:13.446826Z",
     "iopub.status.busy": "2022-12-10T08:40:13.446543Z",
     "iopub.status.idle": "2022-12-10T08:40:13.460129Z",
     "shell.execute_reply": "2022-12-10T08:40:13.459190Z",
     "shell.execute_reply.started": "2022-12-10T08:40:13.446789Z"
    },
    "executionInfo": {
     "elapsed": 1662,
     "status": "ok",
     "timestamp": 1589984112053,
     "user": {
      "displayName": "Garima Rahangdale",
      "photoUrl": "",
      "userId": "12135158262547382026"
     },
     "user_tz": -330
    },
    "id": "nAjc28Whs7CD",
    "outputId": "bb586d68-d4d6-4422-d841-4d284880e63f",
    "scrolled": true
   },
   "outputs": [
    {
     "data": {
      "text/html": [
       "<div>\n",
       "<style scoped>\n",
       "    .dataframe tbody tr th:only-of-type {\n",
       "        vertical-align: middle;\n",
       "    }\n",
       "\n",
       "    .dataframe tbody tr th {\n",
       "        vertical-align: top;\n",
       "    }\n",
       "\n",
       "    .dataframe thead th {\n",
       "        text-align: right;\n",
       "    }\n",
       "</style>\n",
       "<table border=\"1\" class=\"dataframe\">\n",
       "  <thead>\n",
       "    <tr style=\"text-align: right;\">\n",
       "      <th></th>\n",
       "      <th>userID</th>\n",
       "      <th>ISBN</th>\n",
       "      <th>bookRating</th>\n",
       "    </tr>\n",
       "  </thead>\n",
       "  <tbody>\n",
       "    <tr>\n",
       "      <th>0</th>\n",
       "      <td>276725</td>\n",
       "      <td>034545104X</td>\n",
       "      <td>0</td>\n",
       "    </tr>\n",
       "    <tr>\n",
       "      <th>1</th>\n",
       "      <td>276726</td>\n",
       "      <td>0155061224</td>\n",
       "      <td>5</td>\n",
       "    </tr>\n",
       "    <tr>\n",
       "      <th>2</th>\n",
       "      <td>276727</td>\n",
       "      <td>0446520802</td>\n",
       "      <td>0</td>\n",
       "    </tr>\n",
       "    <tr>\n",
       "      <th>3</th>\n",
       "      <td>276729</td>\n",
       "      <td>052165615X</td>\n",
       "      <td>3</td>\n",
       "    </tr>\n",
       "    <tr>\n",
       "      <th>4</th>\n",
       "      <td>276729</td>\n",
       "      <td>0521795028</td>\n",
       "      <td>6</td>\n",
       "    </tr>\n",
       "  </tbody>\n",
       "</table>\n",
       "</div>"
      ],
      "text/plain": [
       "   userID        ISBN  bookRating\n",
       "0  276725  034545104X           0\n",
       "1  276726  0155061224           5\n",
       "2  276727  0446520802           0\n",
       "3  276729  052165615X           3\n",
       "4  276729  0521795028           6"
      ]
     },
     "execution_count": 28,
     "metadata": {},
     "output_type": "execute_result"
    }
   ],
   "source": [
    "ratings.head(5)"
   ]
  },
  {
   "cell_type": "markdown",
   "metadata": {
    "id": "U_iCY300s7CK"
   },
   "source": [
    "### Набор данных Ratings должен содержать только те книги, которые существуют в нашем наборе данных о книгах. Удалим оставшиеся строки"
   ]
  },
  {
   "cell_type": "code",
   "execution_count": 29,
   "metadata": {
    "execution": {
     "iopub.execute_input": "2022-12-10T08:40:13.462011Z",
     "iopub.status.busy": "2022-12-10T08:40:13.461701Z",
     "iopub.status.idle": "2022-12-10T08:40:13.796555Z",
     "shell.execute_reply": "2022-12-10T08:40:13.795809Z",
     "shell.execute_reply.started": "2022-12-10T08:40:13.461962Z"
    },
    "id": "3li662whs7CL"
   },
   "outputs": [],
   "source": [
    "ratings_new = ratings[ratings.ISBN.isin(books.ISBN)]"
   ]
  },
  {
   "cell_type": "code",
   "execution_count": 30,
   "metadata": {
    "execution": {
     "iopub.execute_input": "2022-12-10T08:40:13.797924Z",
     "iopub.status.busy": "2022-12-10T08:40:13.797722Z",
     "iopub.status.idle": "2022-12-10T08:40:13.804064Z",
     "shell.execute_reply": "2022-12-10T08:40:13.803027Z",
     "shell.execute_reply.started": "2022-12-10T08:40:13.797898Z"
    },
    "executionInfo": {
     "elapsed": 2116,
     "status": "ok",
     "timestamp": 1589984113557,
     "user": {
      "displayName": "Garima Rahangdale",
      "photoUrl": "",
      "userId": "12135158262547382026"
     },
     "user_tz": -330
    },
    "id": "Tjkcyqsm16c_",
    "outputId": "15a4f310-d36d-40e8-b49b-3f4fbdff6a3a"
   },
   "outputs": [
    {
     "data": {
      "text/plain": [
       "(1031130, 3)"
      ]
     },
     "execution_count": 30,
     "metadata": {},
     "output_type": "execute_result"
    }
   ],
   "source": [
    "ratings_new.shape"
   ]
  },
  {
   "cell_type": "markdown",
   "metadata": {
    "id": "3u05BWG5s7CO"
   },
   "source": [
    "### Набор данных Ratings должен содержать оценки пользователей, которые существуют в наборе данных пользователей. Удалим оставшиеся строки"
   ]
  },
  {
   "cell_type": "code",
   "execution_count": 31,
   "metadata": {
    "execution": {
     "iopub.execute_input": "2022-12-10T08:40:13.805322Z",
     "iopub.status.busy": "2022-12-10T08:40:13.805096Z",
     "iopub.status.idle": "2022-12-10T08:40:13.909900Z",
     "shell.execute_reply": "2022-12-10T08:40:13.909237Z",
     "shell.execute_reply.started": "2022-12-10T08:40:13.805272Z"
    },
    "id": "wRqd-5jus7CP"
   },
   "outputs": [],
   "source": [
    "ratings_new = ratings_new[ratings.userID.isin(users.userID)]"
   ]
  },
  {
   "cell_type": "code",
   "execution_count": 32,
   "metadata": {
    "execution": {
     "iopub.execute_input": "2022-12-10T08:40:13.911566Z",
     "iopub.status.busy": "2022-12-10T08:40:13.911328Z",
     "iopub.status.idle": "2022-12-10T08:40:13.917232Z",
     "shell.execute_reply": "2022-12-10T08:40:13.916411Z",
     "shell.execute_reply.started": "2022-12-10T08:40:13.911537Z"
    },
    "executionInfo": {
     "elapsed": 1523,
     "status": "ok",
     "timestamp": 1589984114136,
     "user": {
      "displayName": "Garima Rahangdale",
      "photoUrl": "",
      "userId": "12135158262547382026"
     },
     "user_tz": -330
    },
    "id": "GSYq2EYd16dH",
    "outputId": "01673f09-d307-458c-b254-1635ad87d7ff"
   },
   "outputs": [
    {
     "data": {
      "text/plain": [
       "(1031130, 3)"
      ]
     },
     "execution_count": 32,
     "metadata": {},
     "output_type": "execute_result"
    }
   ],
   "source": [
    "ratings_new.shape"
   ]
  },
  {
   "cell_type": "markdown",
   "metadata": {
    "id": "Ys_Upl4ms7Cq"
   },
   "source": [
    "### Узнаем, какая оценка была дана наибольшее количество раз"
   ]
  },
  {
   "cell_type": "code",
   "execution_count": 33,
   "metadata": {
    "execution": {
     "iopub.execute_input": "2022-12-10T08:40:13.918566Z",
     "iopub.status.busy": "2022-12-10T08:40:13.918287Z",
     "iopub.status.idle": "2022-12-10T08:40:14.235470Z",
     "shell.execute_reply": "2022-12-10T08:40:14.234664Z",
     "shell.execute_reply.started": "2022-12-10T08:40:13.918538Z"
    },
    "executionInfo": {
     "elapsed": 1467,
     "status": "ok",
     "timestamp": 1589984116580,
     "user": {
      "displayName": "Garima Rahangdale",
      "photoUrl": "",
      "userId": "12135158262547382026"
     },
     "user_tz": -330
    },
    "id": "vyNORNDZs7Ct",
    "outputId": "ec074f7c-4e86-4e63-fe29-5dd86dbf6aaf"
   },
   "outputs": [
    {
     "data": {
      "image/png": "[encoded data removed]",
      "text/plain": [
       "<Figure size 432x288 with 1 Axes>"
      ]
     },
     "metadata": {
      "needs_background": "light"
     },
     "output_type": "display_data"
    }
   ],
   "source": [
    "import seaborn as sns\n",
    "import matplotlib.pyplot as plt\n",
    "ratings_explicit = ratings_new[ratings_new.bookRating != 0]\n",
    "ratings_implicit = ratings_new[ratings_new.bookRating == 0]\n",
    "sns.countplot(data=ratings_explicit , x='bookRating')\n",
    "plt.show()"
   ]
  },
  {
   "cell_type": "markdown",
   "metadata": {
    "id": "Osh4VMj1s7Cy"
   },
   "source": [
    "### **Системы рекомендаций на основе совместной фильтрации**"
   ]
  },
  {
   "cell_type": "markdown",
   "metadata": {
    "id": "TaS5-42Js7Cz"
   },
   "source": [
    "### Для получения более точных результатов будем учитывать только тех пользователей, которые оценили не менее 500 книг."
   ]
  },
  {
   "cell_type": "code",
   "execution_count": 34,
   "metadata": {
    "execution": {
     "iopub.execute_input": "2022-12-10T08:40:14.236934Z",
     "iopub.status.busy": "2022-12-10T08:40:14.236738Z",
     "iopub.status.idle": "2022-12-10T08:40:14.256025Z",
     "shell.execute_reply": "2022-12-10T08:40:14.255026Z",
     "shell.execute_reply.started": "2022-12-10T08:40:14.236909Z"
    },
    "id": "Ni7pdzWB16dl"
   },
   "outputs": [],
   "source": [
    "counts1 = pd.value_counts(ratings_explicit['userID'])"
   ]
  },
  {
   "cell_type": "code",
   "execution_count": 35,
   "metadata": {
    "execution": {
     "iopub.execute_input": "2022-12-10T08:40:14.257588Z",
     "iopub.status.busy": "2022-12-10T08:40:14.257290Z",
     "iopub.status.idle": "2022-12-10T08:40:14.264820Z",
     "shell.execute_reply": "2022-12-10T08:40:14.264087Z",
     "shell.execute_reply.started": "2022-12-10T08:40:14.257548Z"
    }
   },
   "outputs": [
    {
     "data": {
      "text/plain": [
       "11676     6943\n",
       "98391     5689\n",
       "189835    1899\n",
       "153662    1845\n",
       "23902     1180\n",
       "          ... \n",
       "114767       1\n",
       "114771       1\n",
       "114772       1\n",
       "114777       1\n",
       "276721       1\n",
       "Name: userID, Length: 68091, dtype: int64"
      ]
     },
     "execution_count": 35,
     "metadata": {},
     "output_type": "execute_result"
    }
   ],
   "source": [
    "counts1"
   ]
  },
  {
   "cell_type": "code",
   "execution_count": 36,
   "metadata": {
    "execution": {
     "iopub.execute_input": "2022-12-10T08:40:14.266144Z",
     "iopub.status.busy": "2022-12-10T08:40:14.265891Z",
     "iopub.status.idle": "2022-12-10T08:40:14.281242Z",
     "shell.execute_reply": "2022-12-10T08:40:14.280273Z",
     "shell.execute_reply.started": "2022-12-10T08:40:14.266110Z"
    },
    "id": "ZB0rXGIv16du"
   },
   "outputs": [],
   "source": [
    "ratings_explicit_new = ratings_explicit[ratings_explicit['userID'].isin(counts1[counts1 >= 500].index)]"
   ]
  },
  {
   "cell_type": "code",
   "execution_count": 37,
   "metadata": {
    "execution": {
     "iopub.execute_input": "2022-12-10T08:40:14.282680Z",
     "iopub.status.busy": "2022-12-10T08:40:14.282449Z",
     "iopub.status.idle": "2022-12-10T08:40:14.288101Z",
     "shell.execute_reply": "2022-12-10T08:40:14.287316Z",
     "shell.execute_reply.started": "2022-12-10T08:40:14.282651Z"
    },
    "executionInfo": {
     "elapsed": 1515,
     "status": "ok",
     "timestamp": 1589984119843,
     "user": {
      "displayName": "Garima Rahangdale",
      "photoUrl": "",
      "userId": "12135158262547382026"
     },
     "user_tz": -330
    },
    "id": "FU_2n43X16dw",
    "outputId": "2bf9916d-c298-44b1-9fb1-3bbf4dcb87be"
   },
   "outputs": [
    {
     "data": {
      "text/plain": [
       "(29411, 3)"
      ]
     },
     "execution_count": 37,
     "metadata": {},
     "output_type": "execute_result"
    }
   ],
   "source": [
    "ratings_explicit_new.shape"
   ]
  },
  {
   "cell_type": "code",
   "execution_count": 38,
   "metadata": {
    "execution": {
     "iopub.execute_input": "2022-12-10T08:40:14.289632Z",
     "iopub.status.busy": "2022-12-10T08:40:14.289283Z",
     "iopub.status.idle": "2022-12-10T08:40:14.302152Z",
     "shell.execute_reply": "2022-12-10T08:40:14.301310Z",
     "shell.execute_reply.started": "2022-12-10T08:40:14.289600Z"
    },
    "executionInfo": {
     "elapsed": 1746,
     "status": "ok",
     "timestamp": 1589984120431,
     "user": {
      "displayName": "Garima Rahangdale",
      "photoUrl": "",
      "userId": "12135158262547382026"
     },
     "user_tz": -330
    },
    "id": "uPO6SJHL16dz",
    "outputId": "657ac440-92ee-4512-b73a-efd811adfc3c"
   },
   "outputs": [],
   "source": [
    "ratings_explicit = ratings_explicit_new.copy()"
   ]
  },
  {
   "cell_type": "markdown",
   "metadata": {
    "id": "j9moF_SI16d4"
   },
   "source": [
    "### Преобразование данных в формат \"surprise\""
   ]
  },
  {
   "cell_type": "code",
   "execution_count": 39,
   "metadata": {
    "execution": {
     "iopub.execute_input": "2022-12-10T08:40:14.303587Z",
     "iopub.status.busy": "2022-12-10T08:40:14.303323Z",
     "iopub.status.idle": "2022-12-10T08:40:22.581019Z",
     "shell.execute_reply": "2022-12-10T08:40:22.580199Z",
     "shell.execute_reply.started": "2022-12-10T08:40:14.303533Z"
    },
    "executionInfo": {
     "elapsed": 6186,
     "status": "ok",
     "timestamp": 1589984125678,
     "user": {
      "displayName": "Garima Rahangdale",
      "photoUrl": "",
      "userId": "12135158262547382026"
     },
     "user_tz": -330
    },
    "id": "ebibK4kbXGnv",
    "outputId": "6ce0b811-90b3-4a3c-b66c-e3b78fb98725"
   },
   "outputs": [
    {
     "name": "stdout",
     "output_type": "stream",
     "text": [
      "Requirement already satisfied: surprise in /opt/conda/lib/python3.7/site-packages (0.1)\n",
      "Requirement already satisfied: scikit-surprise in /opt/conda/lib/python3.7/site-packages (from surprise) (1.1.1)\n",
      "Requirement already satisfied: joblib>=0.11 in /opt/conda/lib/python3.7/site-packages (from scikit-surprise->surprise) (1.1.0)\n",
      "Requirement already satisfied: scipy>=1.0.0 in /opt/conda/lib/python3.7/site-packages (from scikit-surprise->surprise) (1.7.3)\n",
      "Requirement already satisfied: six>=1.10.0 in /opt/conda/lib/python3.7/site-packages (from scikit-surprise->surprise) (1.16.0)\n",
      "Requirement already satisfied: numpy>=1.11.2 in /opt/conda/lib/python3.7/site-packages (from scikit-surprise->surprise) (1.20.3)\n",
      "\u001b[33mWARNING: Running pip as the 'root' user can result in broken permissions and conflicting behaviour with the system package manager. It is recommended to use a virtual environment instead: https://pip.pypa.io/warnings/venv\u001b[0m\n"
     ]
    }
   ],
   "source": [
    "!pip install surprise"
   ]
  },
  {
   "cell_type": "code",
   "execution_count": 40,
   "metadata": {
    "execution": {
     "iopub.execute_input": "2022-12-10T08:40:22.586792Z",
     "iopub.status.busy": "2022-12-10T08:40:22.586459Z",
     "iopub.status.idle": "2022-12-10T08:40:22.603739Z",
     "shell.execute_reply": "2022-12-10T08:40:22.603129Z",
     "shell.execute_reply.started": "2022-12-10T08:40:22.586760Z"
    },
    "id": "M_CbQ4W416d5"
   },
   "outputs": [],
   "source": [
    "from surprise import Dataset,Reader\n",
    "reader = Reader(rating_scale=(1, 10))"
   ]
  },
  {
   "cell_type": "code",
   "execution_count": 41,
   "metadata": {
    "execution": {
     "iopub.execute_input": "2022-12-10T08:40:22.605469Z",
     "iopub.status.busy": "2022-12-10T08:40:22.605169Z",
     "iopub.status.idle": "2022-12-10T08:40:22.616919Z",
     "shell.execute_reply": "2022-12-10T08:40:22.616028Z",
     "shell.execute_reply.started": "2022-12-10T08:40:22.605430Z"
    },
    "executionInfo": {
     "elapsed": 5343,
     "status": "ok",
     "timestamp": 1589984125684,
     "user": {
      "displayName": "Garima Rahangdale",
      "photoUrl": "",
      "userId": "12135158262547382026"
     },
     "user_tz": -330
    },
    "id": "HmHfE3dQ16d8",
    "outputId": "b18194f4-bb91-4691-acd3-e1a20add3991"
   },
   "outputs": [
    {
     "data": {
      "text/html": [
       "<div>\n",
       "<style scoped>\n",
       "    .dataframe tbody tr th:only-of-type {\n",
       "        vertical-align: middle;\n",
       "    }\n",
       "\n",
       "    .dataframe tbody tr th {\n",
       "        vertical-align: top;\n",
       "    }\n",
       "\n",
       "    .dataframe thead th {\n",
       "        text-align: right;\n",
       "    }\n",
       "</style>\n",
       "<table border=\"1\" class=\"dataframe\">\n",
       "  <thead>\n",
       "    <tr style=\"text-align: right;\">\n",
       "      <th></th>\n",
       "      <th>userID</th>\n",
       "      <th>ISBN</th>\n",
       "      <th>bookRating</th>\n",
       "    </tr>\n",
       "  </thead>\n",
       "  <tbody>\n",
       "    <tr>\n",
       "      <th>45339</th>\n",
       "      <td>11676</td>\n",
       "      <td>0001944711</td>\n",
       "      <td>6</td>\n",
       "    </tr>\n",
       "    <tr>\n",
       "      <th>45340</th>\n",
       "      <td>11676</td>\n",
       "      <td>0002005018</td>\n",
       "      <td>8</td>\n",
       "    </tr>\n",
       "  </tbody>\n",
       "</table>\n",
       "</div>"
      ],
      "text/plain": [
       "       userID        ISBN  bookRating\n",
       "45339   11676  0001944711           6\n",
       "45340   11676  0002005018           8"
      ]
     },
     "execution_count": 41,
     "metadata": {},
     "output_type": "execute_result"
    }
   ],
   "source": [
    "ratings_explicit.head(2)"
   ]
  },
  {
   "cell_type": "code",
   "execution_count": 42,
   "metadata": {
    "execution": {
     "iopub.execute_input": "2022-12-10T08:40:22.618504Z",
     "iopub.status.busy": "2022-12-10T08:40:22.618299Z",
     "iopub.status.idle": "2022-12-10T08:40:22.624200Z",
     "shell.execute_reply": "2022-12-10T08:40:22.623336Z",
     "shell.execute_reply.started": "2022-12-10T08:40:22.618480Z"
    },
    "executionInfo": {
     "elapsed": 4966,
     "status": "ok",
     "timestamp": 1589984125687,
     "user": {
      "displayName": "Garima Rahangdale",
      "photoUrl": "",
      "userId": "12135158262547382026"
     },
     "user_tz": -330
    },
    "id": "rI1OuSS4bHH8",
    "outputId": "f4d3d05d-e84a-473e-f38e-1f00a8b98fb1"
   },
   "outputs": [
    {
     "data": {
      "text/plain": [
       "(29411, 3)"
      ]
     },
     "execution_count": 42,
     "metadata": {},
     "output_type": "execute_result"
    }
   ],
   "source": [
    "ratings_explicit.shape"
   ]
  },
  {
   "cell_type": "code",
   "execution_count": 43,
   "metadata": {
    "execution": {
     "iopub.execute_input": "2022-12-10T08:40:22.625689Z",
     "iopub.status.busy": "2022-12-10T08:40:22.625489Z",
     "iopub.status.idle": "2022-12-10T08:40:22.680925Z",
     "shell.execute_reply": "2022-12-10T08:40:22.680037Z",
     "shell.execute_reply.started": "2022-12-10T08:40:22.625665Z"
    },
    "id": "oAFTabSf16eB"
   },
   "outputs": [],
   "source": [
    "data = Dataset.load_from_df(ratings_explicit[['userID', 'ISBN', 'bookRating']], reader)"
   ]
  },
  {
   "cell_type": "code",
   "execution_count": 44,
   "metadata": {
    "execution": {
     "iopub.execute_input": "2022-12-10T08:40:22.682615Z",
     "iopub.status.busy": "2022-12-10T08:40:22.682365Z",
     "iopub.status.idle": "2022-12-10T08:40:22.692082Z",
     "shell.execute_reply": "2022-12-10T08:40:22.691128Z",
     "shell.execute_reply.started": "2022-12-10T08:40:22.682583Z"
    },
    "executionInfo": {
     "elapsed": 4159,
     "status": "ok",
     "timestamp": 1589984125690,
     "user": {
      "displayName": "Garima Rahangdale",
      "photoUrl": "",
      "userId": "12135158262547382026"
     },
     "user_tz": -330
    },
    "id": "HE9KDUwA16eG",
    "outputId": "9b1f36c1-160b-4b80-ebef-90e73961506e"
   },
   "outputs": [
    {
     "data": {
      "text/html": [
       "<div>\n",
       "<style scoped>\n",
       "    .dataframe tbody tr th:only-of-type {\n",
       "        vertical-align: middle;\n",
       "    }\n",
       "\n",
       "    .dataframe tbody tr th {\n",
       "        vertical-align: top;\n",
       "    }\n",
       "\n",
       "    .dataframe thead th {\n",
       "        text-align: right;\n",
       "    }\n",
       "</style>\n",
       "<table border=\"1\" class=\"dataframe\">\n",
       "  <thead>\n",
       "    <tr style=\"text-align: right;\">\n",
       "      <th></th>\n",
       "      <th>userID</th>\n",
       "      <th>ISBN</th>\n",
       "      <th>bookRating</th>\n",
       "    </tr>\n",
       "  </thead>\n",
       "  <tbody>\n",
       "    <tr>\n",
       "      <th>45339</th>\n",
       "      <td>11676</td>\n",
       "      <td>0001944711</td>\n",
       "      <td>6</td>\n",
       "    </tr>\n",
       "    <tr>\n",
       "      <th>45340</th>\n",
       "      <td>11676</td>\n",
       "      <td>0002005018</td>\n",
       "      <td>8</td>\n",
       "    </tr>\n",
       "  </tbody>\n",
       "</table>\n",
       "</div>"
      ],
      "text/plain": [
       "       userID        ISBN  bookRating\n",
       "45339   11676  0001944711           6\n",
       "45340   11676  0002005018           8"
      ]
     },
     "execution_count": 44,
     "metadata": {},
     "output_type": "execute_result"
    }
   ],
   "source": [
    "data.df.head(2)"
   ]
  },
  {
   "cell_type": "markdown",
   "metadata": {
    "id": "RzAQJ83416eK"
   },
   "source": [
    "### Обратим внимание:\n",
    "\n",
    "1) Trainset больше не является типом данных pandas. Теперь он имеет вид, определенные библиотекой Surprise.\n",
    "\n",
    "2) UserID и ISBN в  данных pandas могут содержать любое значение (либо строку, либо целое число и т. д.). Однако Trainset преобразует эти необработанные идентификаторы в числовые индексы, называемые «внутренним идентификатором»."
   ]
  },
  {
   "cell_type": "markdown",
   "metadata": {
    "id": "d6WSS4al16eM"
   },
   "source": [
    "### Система рекомендаций на основе SVD"
   ]
  },
  {
   "cell_type": "code",
   "execution_count": 45,
   "metadata": {
    "execution": {
     "iopub.execute_input": "2022-12-10T08:40:22.693414Z",
     "iopub.status.busy": "2022-12-10T08:40:22.693181Z",
     "iopub.status.idle": "2022-12-10T08:40:22.745795Z",
     "shell.execute_reply": "2022-12-10T08:40:22.744872Z",
     "shell.execute_reply.started": "2022-12-10T08:40:22.693387Z"
    },
    "id": "dTU69-hv16eN"
   },
   "outputs": [],
   "source": [
    "from surprise import Dataset,Reader\n",
    "reader = Reader(rating_scale=(1, 10))\n",
    "data = Dataset.load_from_df(ratings_explicit[['userID', 'ISBN', 'bookRating']], reader)\n"
   ]
  },
  {
   "cell_type": "code",
   "execution_count": 46,
   "metadata": {
    "execution": {
     "iopub.execute_input": "2022-12-10T08:40:22.747290Z",
     "iopub.status.busy": "2022-12-10T08:40:22.747060Z",
     "iopub.status.idle": "2022-12-10T08:40:22.961620Z",
     "shell.execute_reply": "2022-12-10T08:40:22.960961Z",
     "shell.execute_reply.started": "2022-12-10T08:40:22.747261Z"
    },
    "id": "2CowYhRf16eQ"
   },
   "outputs": [],
   "source": [
    "# Разделим данные для обучения и тестирования\n",
    "\n",
    "from surprise.model_selection import train_test_split\n",
    "trainset, testset = train_test_split(data, test_size=.25,random_state=123)\n"
   ]
  },
  {
   "cell_type": "code",
   "execution_count": 47,
   "metadata": {
    "execution": {
     "iopub.execute_input": "2022-12-10T08:40:22.963206Z",
     "iopub.status.busy": "2022-12-10T08:40:22.962810Z",
     "iopub.status.idle": "2022-12-10T08:40:22.968868Z",
     "shell.execute_reply": "2022-12-10T08:40:22.967910Z",
     "shell.execute_reply.started": "2022-12-10T08:40:22.963166Z"
    },
    "id": "e5NxrOS-16ek"
   },
   "outputs": [],
   "source": [
    "from surprise import SVD, KNNWithMeans\n",
    "from surprise import accuracy"
   ]
  },
  {
   "cell_type": "code",
   "execution_count": 48,
   "metadata": {
    "execution": {
     "iopub.execute_input": "2022-12-10T08:40:22.970543Z",
     "iopub.status.busy": "2022-12-10T08:40:22.970034Z",
     "iopub.status.idle": "2022-12-10T08:40:23.341089Z",
     "shell.execute_reply": "2022-12-10T08:40:23.340228Z",
     "shell.execute_reply.started": "2022-12-10T08:40:22.970510Z"
    },
    "executionInfo": {
     "elapsed": 1249,
     "status": "ok",
     "timestamp": 1589984126211,
     "user": {
      "displayName": "Garima Rahangdale",
      "photoUrl": "",
      "userId": "12135158262547382026"
     },
     "user_tz": -330
    },
    "id": "aHnjepaH16em",
    "outputId": "f03839cf-f079-4670-d340-51d90e02b582"
   },
   "outputs": [
    {
     "data": {
      "text/plain": [
       "<surprise.prediction_algorithms.matrix_factorization.SVD at 0x7ff661d65450>"
      ]
     },
     "execution_count": 48,
     "metadata": {},
     "output_type": "execute_result"
    }
   ],
   "source": [
    "svd_model = SVD(n_factors=5)\n",
    "svd_model.fit(trainset)"
   ]
  },
  {
   "cell_type": "code",
   "execution_count": 49,
   "metadata": {
    "execution": {
     "iopub.execute_input": "2022-12-10T08:40:23.343410Z",
     "iopub.status.busy": "2022-12-10T08:40:23.343210Z",
     "iopub.status.idle": "2022-12-10T08:40:23.348549Z",
     "shell.execute_reply": "2022-12-10T08:40:23.347823Z",
     "shell.execute_reply.started": "2022-12-10T08:40:23.343385Z"
    },
    "executionInfo": {
     "elapsed": 1609,
     "status": "ok",
     "timestamp": 1589984127088,
     "user": {
      "displayName": "Garima Rahangdale",
      "photoUrl": "",
      "userId": "12135158262547382026"
     },
     "user_tz": -330
    },
    "id": "JSK8XZK-16eo",
    "outputId": "c3885772-fcf4-4806-9d69-c42e00a6b2e8"
   },
   "outputs": [
    {
     "data": {
      "text/plain": [
       "(153662, '006108185X', 9.0)"
      ]
     },
     "execution_count": 49,
     "metadata": {},
     "output_type": "execute_result"
    }
   ],
   "source": [
    "testset[0]"
   ]
  },
  {
   "cell_type": "code",
   "execution_count": 50,
   "metadata": {
    "execution": {
     "iopub.execute_input": "2022-12-10T08:40:23.350323Z",
     "iopub.status.busy": "2022-12-10T08:40:23.349819Z",
     "iopub.status.idle": "2022-12-10T08:40:23.410338Z",
     "shell.execute_reply": "2022-12-10T08:40:23.409602Z",
     "shell.execute_reply.started": "2022-12-10T08:40:23.350289Z"
    },
    "id": "VaFE7eDL16eu"
   },
   "outputs": [],
   "source": [
    "test_pred = svd_model.test(testset)"
   ]
  },
  {
   "cell_type": "code",
   "execution_count": 51,
   "metadata": {
    "execution": {
     "iopub.execute_input": "2022-12-10T08:40:23.411793Z",
     "iopub.status.busy": "2022-12-10T08:40:23.411559Z",
     "iopub.status.idle": "2022-12-10T08:40:23.418369Z",
     "shell.execute_reply": "2022-12-10T08:40:23.417835Z",
     "shell.execute_reply.started": "2022-12-10T08:40:23.411763Z"
    }
   },
   "outputs": [
    {
     "data": {
      "text/plain": [
       "[Prediction(uid=153662, iid='006108185X', r_ui=9.0, est=8.540807600198129, details={'was_impossible': False}),\n",
       " Prediction(uid=11676, iid='0671577026', r_ui=9.0, est=7.370831833886747, details={'was_impossible': False}),\n",
       " Prediction(uid=95359, iid='0609804138', r_ui=10.0, est=7.781144855123485, details={'was_impossible': False}),\n",
       " Prediction(uid=98391, iid='0451208838', r_ui=9.0, est=8.767583168360368, details={'was_impossible': False}),\n",
       " Prediction(uid=11676, iid='3453146980', r_ui=4.0, est=7.370831833886747, details={'was_impossible': False})]"
      ]
     },
     "execution_count": 51,
     "metadata": {},
     "output_type": "execute_result"
    }
   ],
   "source": [
    "test_pred[0:5]"
   ]
  },
  {
   "cell_type": "markdown",
   "metadata": {},
   "source": [
    "# Вычислим среднеквадратичное отклонение"
   ]
  },
  {
   "cell_type": "code",
   "execution_count": 52,
   "metadata": {
    "execution": {
     "iopub.execute_input": "2022-12-10T08:40:23.419504Z",
     "iopub.status.busy": "2022-12-10T08:40:23.419306Z",
     "iopub.status.idle": "2022-12-10T08:40:23.437048Z",
     "shell.execute_reply": "2022-12-10T08:40:23.436085Z",
     "shell.execute_reply.started": "2022-12-10T08:40:23.419478Z"
    },
    "executionInfo": {
     "elapsed": 1156,
     "status": "ok",
     "timestamp": 1589984127728,
     "user": {
      "displayName": "Garima Rahangdale",
      "photoUrl": "",
      "userId": "12135158262547382026"
     },
     "user_tz": -330
    },
    "id": "wpxKXY0W16ew",
    "outputId": "0c6122da-9e2e-425c-9271-638070d71fa4"
   },
   "outputs": [
    {
     "name": "stdout",
     "output_type": "stream",
     "text": [
      "RMSE: 1.4983\n"
     ]
    },
    {
     "data": {
      "text/plain": [
       "1.4982739748239142"
      ]
     },
     "execution_count": 52,
     "metadata": {},
     "output_type": "execute_result"
    }
   ],
   "source": [
    "accuracy.rmse(test_pred)"
   ]
  },
  {
   "cell_type": "markdown",
   "metadata": {
    "id": "dPll2U2xduQh"
   },
   "source": [
    "## KNN С Means"
   ]
  },
  {
   "cell_type": "code",
   "execution_count": 53,
   "metadata": {
    "execution": {
     "iopub.execute_input": "2022-12-10T08:40:23.438471Z",
     "iopub.status.busy": "2022-12-10T08:40:23.438212Z",
     "iopub.status.idle": "2022-12-10T08:40:46.701464Z",
     "shell.execute_reply": "2022-12-10T08:40:46.700653Z",
     "shell.execute_reply.started": "2022-12-10T08:40:23.438428Z"
    },
    "executionInfo": {
     "elapsed": 22472,
     "status": "ok",
     "timestamp": 1589984149529,
     "user": {
      "displayName": "Garima Rahangdale",
      "photoUrl": "",
      "userId": "12135158262547382026"
     },
     "user_tz": -330
    },
    "id": "LuqNMi7HYmhJ",
    "outputId": "95e96ee6-4955-41e8-9410-2d34b506d13b"
   },
   "outputs": [
    {
     "name": "stdout",
     "output_type": "stream",
     "text": [
      "Computing the msd similarity matrix...\n",
      "Done computing similarity matrix.\n"
     ]
    },
    {
     "data": {
      "text/plain": [
       "<surprise.prediction_algorithms.knns.KNNWithMeans at 0x7ff661daac10>"
      ]
     },
     "execution_count": 53,
     "metadata": {},
     "output_type": "execute_result"
    }
   ],
   "source": [
    "from surprise import KNNWithMeans\n",
    "from surprise import accuracy\n",
    "\n",
    "algo_i = KNNWithMeans(k=10, sim_options={ 'user_based': False})\n",
    "algo_i.fit(trainset)"
   ]
  },
  {
   "cell_type": "code",
   "execution_count": 54,
   "metadata": {
    "execution": {
     "iopub.execute_input": "2022-12-10T08:40:46.703222Z",
     "iopub.status.busy": "2022-12-10T08:40:46.702959Z",
     "iopub.status.idle": "2022-12-10T08:40:48.438757Z",
     "shell.execute_reply": "2022-12-10T08:40:48.438019Z",
     "shell.execute_reply.started": "2022-12-10T08:40:46.703191Z"
    },
    "executionInfo": {
     "elapsed": 2914,
     "status": "ok",
     "timestamp": 1589984157308,
     "user": {
      "displayName": "Garima Rahangdale",
      "photoUrl": "",
      "userId": "12135158262547382026"
     },
     "user_tz": -330
    },
    "id": "4bJ6148fYxu0",
    "outputId": "780c3695-0b5e-4b10-99d0-322428ef119f"
   },
   "outputs": [
    {
     "name": "stdout",
     "output_type": "stream",
     "text": [
      "RMSE: 1.8790\n",
      "1.8789856860600966\n"
     ]
    }
   ],
   "source": [
    "test_pred=algo_i.test(testset)\n",
    "print(accuracy.rmse(test_pred))"
   ]
  },
  {
   "cell_type": "markdown",
   "metadata": {
    "id": "nBGhGhgFcPA2"
   },
   "source": [
    "## svd_model дал лучшие результаты."
   ]
  },
  {
   "cell_type": "code",
   "execution_count": 55,
   "metadata": {
    "execution": {
     "iopub.execute_input": "2022-12-10T08:40:48.440420Z",
     "iopub.status.busy": "2022-12-10T08:40:48.439869Z",
     "iopub.status.idle": "2022-12-10T08:40:48.446926Z",
     "shell.execute_reply": "2022-12-10T08:40:48.445964Z",
     "shell.execute_reply.started": "2022-12-10T08:40:48.440379Z"
    },
    "executionInfo": {
     "elapsed": 1392,
     "status": "ok",
     "timestamp": 1589984329190,
     "user": {
      "displayName": "Garima Rahangdale",
      "photoUrl": "",
      "userId": "12135158262547382026"
     },
     "user_tz": -330
    },
    "id": "pWTDNgPH16ey",
    "outputId": "b345b612-84d7-454e-de0c-5aa98c63a349"
   },
   "outputs": [
    {
     "name": "stdout",
     "output_type": "stream",
     "text": [
      "user: 98391      item: 074323748X r_ui = 0.00   est = 7.73   {'was_impossible': True, 'reason': 'User and/or item is unknown.'}\n"
     ]
    }
   ],
   "source": [
    "uid = str(98391)  # необработанный идентификатор пользователя (как в файле оценок).\n",
    "iid = \"074323748X\"  # необработанный идентификатор элемента (как в файле оценок)\n",
    "\n",
    "# получить прогноз для конкретных пользователей и элемента.\n",
    "pred = svd_model.predict(uid, iid, r_ui=0.0, verbose=True)"
   ]
  },
  {
   "cell_type": "markdown",
   "metadata": {
    "id": "fs20djV716e1"
   },
   "source": [
    "### Создание первых n рекомендаций"
   ]
  },
  {
   "cell_type": "code",
   "execution_count": 56,
   "metadata": {
    "execution": {
     "iopub.execute_input": "2022-12-10T08:40:48.448331Z",
     "iopub.status.busy": "2022-12-10T08:40:48.448121Z",
     "iopub.status.idle": "2022-12-10T08:40:48.479221Z",
     "shell.execute_reply": "2022-12-10T08:40:48.478464Z",
     "shell.execute_reply.started": "2022-12-10T08:40:48.448305Z"
    },
    "executionInfo": {
     "elapsed": 1329,
     "status": "ok",
     "timestamp": 1589984482631,
     "user": {
      "displayName": "Garima Rahangdale",
      "photoUrl": "",
      "userId": "12135158262547382026"
     },
     "user_tz": -330
    },
    "id": "gJ-appez16e1",
    "outputId": "5f239549-6345-4f9b-d8d6-df750b44dcf6"
   },
   "outputs": [
    {
     "data": {
      "text/html": [
       "<div>\n",
       "<style scoped>\n",
       "    .dataframe tbody tr th:only-of-type {\n",
       "        vertical-align: middle;\n",
       "    }\n",
       "\n",
       "    .dataframe tbody tr th {\n",
       "        vertical-align: top;\n",
       "    }\n",
       "\n",
       "    .dataframe thead th {\n",
       "        text-align: right;\n",
       "    }\n",
       "</style>\n",
       "<table border=\"1\" class=\"dataframe\">\n",
       "  <thead>\n",
       "    <tr style=\"text-align: right;\">\n",
       "      <th></th>\n",
       "      <th>iid</th>\n",
       "      <th>r_ui</th>\n",
       "      <th>est</th>\n",
       "    </tr>\n",
       "  </thead>\n",
       "  <tbody>\n",
       "    <tr>\n",
       "      <th>7351</th>\n",
       "      <td>045121269X</td>\n",
       "      <td>10.0</td>\n",
       "      <td>7.733249</td>\n",
       "    </tr>\n",
       "    <tr>\n",
       "      <th>2139</th>\n",
       "      <td>042519597X</td>\n",
       "      <td>10.0</td>\n",
       "      <td>7.733249</td>\n",
       "    </tr>\n",
       "    <tr>\n",
       "      <th>5063</th>\n",
       "      <td>0425190021</td>\n",
       "      <td>10.0</td>\n",
       "      <td>7.733249</td>\n",
       "    </tr>\n",
       "    <tr>\n",
       "      <th>2241</th>\n",
       "      <td>0553803085</td>\n",
       "      <td>10.0</td>\n",
       "      <td>8.016667</td>\n",
       "    </tr>\n",
       "    <tr>\n",
       "      <th>5066</th>\n",
       "      <td>0373293224</td>\n",
       "      <td>10.0</td>\n",
       "      <td>7.733249</td>\n",
       "    </tr>\n",
       "    <tr>\n",
       "      <th>5079</th>\n",
       "      <td>0778320294</td>\n",
       "      <td>10.0</td>\n",
       "      <td>7.733249</td>\n",
       "    </tr>\n",
       "    <tr>\n",
       "      <th>5100</th>\n",
       "      <td>0743247566</td>\n",
       "      <td>10.0</td>\n",
       "      <td>7.733249</td>\n",
       "    </tr>\n",
       "    <tr>\n",
       "      <th>2188</th>\n",
       "      <td>045121174X</td>\n",
       "      <td>10.0</td>\n",
       "      <td>7.733249</td>\n",
       "    </tr>\n",
       "    <tr>\n",
       "      <th>2187</th>\n",
       "      <td>0060013133</td>\n",
       "      <td>10.0</td>\n",
       "      <td>7.733249</td>\n",
       "    </tr>\n",
       "    <tr>\n",
       "      <th>2182</th>\n",
       "      <td>0765303957</td>\n",
       "      <td>10.0</td>\n",
       "      <td>7.733249</td>\n",
       "    </tr>\n",
       "  </tbody>\n",
       "</table>\n",
       "</div>"
      ],
      "text/plain": [
       "             iid  r_ui       est\n",
       "7351  045121269X  10.0  7.733249\n",
       "2139  042519597X  10.0  7.733249\n",
       "5063  0425190021  10.0  7.733249\n",
       "2241  0553803085  10.0  8.016667\n",
       "5066  0373293224  10.0  7.733249\n",
       "5079  0778320294  10.0  7.733249\n",
       "5100  0743247566  10.0  7.733249\n",
       "2188  045121174X  10.0  7.733249\n",
       "2187  0060013133  10.0  7.733249\n",
       "2182  0765303957  10.0  7.733249"
      ]
     },
     "execution_count": 56,
     "metadata": {},
     "output_type": "execute_result"
    }
   ],
   "source": [
    "pred = pd.DataFrame(test_pred)\n",
    "pred[pred['uid'] == 98391][['iid', 'r_ui','est']].sort_values(by = 'r_ui',ascending = False).head(10)"
   ]
  },
  {
   "cell_type": "markdown",
   "metadata": {
    "id": "7EBaqtAlavPN"
   },
   "source": [
    "Модель прогнозирует средний рейтинг, если оценка невозможна\n",
    "\n",
    "Совместная фильтрация на основе моделей — это персонализированная рекомендательная система, рекомендации основаны на прошлом поведении пользователя и не зависят от какой-либо дополнительной информации.\n",
    "\n",
    "Система рекомендаций на основе популярности не является персонализированной, а рекомендации основаны на подсчете частоты, что может не подходить пользователю."
   ]
  }
 ],
 "metadata": {
  "kernelspec": {
   "display_name": "Python 3 (ipykernel)",
   "language": "python",
   "name": "python3"
  },
  "language_info": {
   "codemirror_mode": {
    "name": "ipython",
    "version": 3
   },
   "file_extension": ".py",
   "mimetype": "text/x-python",
   "name": "python",
   "nbconvert_exporter": "python",
   "pygments_lexer": "ipython3",
   "version": "3.9.13"
  }
 },
 "nbformat": 4,
 "nbformat_minor": 4
}
