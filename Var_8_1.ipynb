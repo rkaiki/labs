{
 "cells": [
  {
   "cell_type": "code",
   "execution_count": 25,
   "id": "4fe9feca",
   "metadata": {},
   "outputs": [
    {
     "name": "stdout",
     "output_type": "stream",
     "text": [
      "Ответ выигрыш игрока A в ситуации H(P,Q) = 5.692400000000001\n",
      "Ответ выигрыш игрока A в ситуации H(Q,A1) = 9.379999999999999\n",
      "Ответ выигрыш игрока A в ситуации H(Q,A2) = 5.52\n",
      "Ответ выигрыш игрока A в ситуации H(Q,A3) = 6.720000000000001\n",
      "Ответ выигрыш игрока A в ситуации H(Q,A4) = 3.1\n",
      "Ответ выигрыш игрока A в ситуации H(Q,A5) = 3.5200000000000005\n",
      "Ответ выигрыш игрока B в ситуации H(P,Q) = 5.692400000000001\n",
      "Ответ выигрыш игрока B в ситуации H(Q,A1) = 9.379999999999999\n",
      "Ответ выигрыш игрока B в ситуации H(Q,A2) = 5.52\n",
      "Ответ выигрыш игрока B в ситуации H(Q,A3) = 6.720000000000001\n",
      "Ответ выигрыш игрока B в ситуации H(Q,A4) = 3.1\n",
      "Ответ выигрыш игрока B в ситуации H(Q,A5) = 3.5200000000000005\n",
      "Ответ выигрыш игрока B в ситуации H(P,B1) = 5.680000000000001\n",
      "Ответ выигрыш игрока B в ситуации H(P,B2) = 3.68\n",
      "Ответ выигрыш игрока B в ситуации H(P,B3) = 5.7\n",
      "Ответ выигрыш игрока B в ситуации H(P,B4) = 2.16\n",
      "Ответ выигрыш игрока B в ситуации H(P,B5) = 3.8400000000000003\n"
     ]
    }
   ],
   "source": [
    "import numpy as np\n",
    "matrix = np.array([\n",
    "    [10,7,9,2,12],\n",
    "    [8,2,4,0,6],\n",
    "    [3,10,9,8,12],\n",
    "    [0,10,5,4,6],\n",
    "    [6,3,2,2,3]\n",
    "]\n",
    ")\n",
    "\n",
    "q = [0.46, 0.0, 0.0, 0.54, 0.0]\n",
    "p = [0.38, 0.0, 0.62, 0.0, 0.0]\n",
    "answer = {}\n",
    "\n",
    "lower_price = max([min(x) for x in matrix])\n",
    "upper_price = min([max(x) for x in np.rot90(matrix)])\n",
    "\n",
    "if lower_price==upper_price:\n",
    "    print(\"седловая точка есть\", \"ответ v={}\".format(lower_price))\n",
    "else:\n",
    "    buff=0\n",
    "    \n",
    "    for i,pin in zip(matrix,p):\n",
    "        buff+=pin*sum([x*y for x,y in zip(i,q)])\n",
    "    answer[\"H(P,Q)\"]=buff\n",
    "    \n",
    "    for k, i  in enumerate((matrix),1):\n",
    "        answer[\"H(Q,A{})\".format(k)]=sum([x*y for x,y in zip(i,p)])\n",
    "\n",
    "\n",
    "for i in [(x,y) for x,y in answer.items()]:\n",
    "    print(\"Ответ выигрыш игрока A в ситуации {0[0]} = {0[1]}\".format(i))\n",
    "    for k, i  in enumerate((matrix),1):\n",
    "        answer[\"H(P,B{})\".format(k)]=sum([x*y for x,y in zip(i,q)])\n",
    "\n",
    "for i in [(x,y) for x,y in answer.items()]:\n",
    "  print(\"Ответ выигрыш игрока B в ситуации {0[0]} = {0[1]}\".format(i))"
   ]
  },
  {
   "cell_type": "code",
   "execution_count": 30,
   "id": "e282e0e2",
   "metadata": {
    "scrolled": true
   },
   "outputs": [],
   "source": [
    "from cvxopt.modeling import variable, op\n",
    "import time\n",
    "start = time.time()\n",
    "x = variable(25, 'x')\n",
    "\n",
    "c= [1,6,9,3,4,3,2,2,4,5,4,5,4,7,6,1,4,3,9,8,7,9,7,1,9]\n",
    "\n",
    "z = sum( [ c[i]*x[i] for i in range(25) ] )\n",
    "\n",
    "mass1 = (x[0] + x[1] + x[2] + x[3] + x[4] <= 200)\n",
    "mass2 = (x[5] + x[6] + x[7] + x[8] + x[9] <= 400)\n",
    "mass3 = (x[10] + x[11] + x[12] + x[13] + x[14] <= 600)\n",
    "mass4 = (x[15] + x[16] + x[17] + x[18] + x[19] <= 200)\n",
    "mass5 = (x[20] + x[21] + x[22] + x[23] + x[24] <= 200)\n",
    "\n",
    "mass6 = (x[0] + x[5] + x[10] + x[15] + x[20] == 200)\n",
    "mass7 = (x[1] + x[6] + x[11] + x[16] + x[21] == 400)\n",
    "mass8 = (x[2] + x[7] + x[12] + x[17] + x[22] == 400)\n",
    "mass9 = (x[3] + x[8] + x[13] + x[18] + x[23] == 300)\n",
    "mass10 = (x[4] + x[9] + x[14] + x[19] + x[24] == 300)\n",
    "x_non_negative = (x >= 0)    \n",
    "\n",
    "problem = op(z, [mass1, mass2, mass3, mass4, mass5, mass6, mass7, mass8, mass9, mass10, x_non_negative] )\n",
    "problem.solve(solver='glpk')"
   ]
  },
  {
   "cell_type": "code",
   "execution_count": 31,
   "id": "6560bf42",
   "metadata": {},
   "outputs": [
    {
     "name": "stdout",
     "output_type": "stream",
     "text": [
      "Результат Xopt:\n",
      "0.0\n",
      "0.0\n",
      "0.0\n",
      "100.0\n",
      "100.0\n",
      "0.0\n",
      "400.0\n",
      "0.0\n",
      "0.0\n",
      "0.0\n",
      "0.0\n",
      "0.0\n",
      "400.0\n",
      "0.0\n",
      "200.0\n",
      "200.0\n",
      "0.0\n",
      "0.0\n",
      "0.0\n",
      "0.0\n",
      "0.0\n",
      "0.0\n",
      "0.0\n",
      "200.0\n",
      "0.0\n",
      "Стоимость доставки:\n",
      "4700.0\n",
      "Время :\n",
      "0.3129994869232178\n"
     ]
    }
   ],
   "source": [
    "print(\"Результат Xopt:\")\n",
    "for i in x.value:\n",
    "         print(i)\n",
    "print(\"Стоимость доставки:\")\n",
    "print(problem.objective.value()[0])\n",
    "stop = time.time()\n",
    "print (\"Время :\")\n",
    "print(stop - start)"
   ]
  },
  {
   "cell_type": "code",
   "execution_count": null,
   "id": "6dc01f63",
   "metadata": {},
   "outputs": [],
   "source": []
  }
 ],
 "metadata": {
  "kernelspec": {
   "display_name": "Python 3 (ipykernel)",
   "language": "python",
   "name": "python3"
  },
  "language_info": {
   "codemirror_mode": {
    "name": "ipython",
    "version": 3
   },
   "file_extension": ".py",
   "mimetype": "text/x-python",
   "name": "python",
   "nbconvert_exporter": "python",
   "pygments_lexer": "ipython3",
   "version": "3.9.9"
  }
 },
 "nbformat": 4,
 "nbformat_minor": 5
}
